{
 "cells": [
  {
   "cell_type": "code",
   "execution_count": 1,
   "metadata": {},
   "outputs": [
    {
     "name": "stdout",
     "output_type": "stream",
     "text": [
      "Welcome Nelson and Odessa Lets Play Rock, Paper, Scissor\n",
      "\n",
      "Nelson: Enter your choice ['Rock', 'Paper', 'Scissor']\n",
      "\tYou chose: Rock\n",
      "Odessa: Enter your choice ['Rock', 'Paper', 'Scissor']\n",
      "\tYou chose: Paper\n",
      "*Paper Beats Rock - Odessa Wins!! Congratulations*\n",
      "\n",
      "Play Again? (Yes/No): Yes\n",
      "\tLets Play Again!!\n",
      "\n",
      "Welcome Nelson and Odessa Lets Play Rock, Paper, Scissor\n",
      "\n",
      "Nelson: Enter your choice ['Rock', 'Paper', 'Scissor']\n",
      "\tYou chose: Paper\n",
      "Odessa: Enter your choice ['Rock', 'Paper', 'Scissor']\n",
      "\tYou chose: Rock\n",
      "*Paper Beats Rock - Nelson Wins!! Congratulations*\n",
      "\n",
      "Play Again? (Yes/No): No\n",
      "\tGame has Ended - Come play again soon!!\n",
      "\n"
     ]
    }
   ],
   "source": [
    "while True:\n",
    "    player_one = ('Nelson')\n",
    "    player_two = ('Odessa')\n",
    "    game_choices = ['Rock', 'Paper', 'Scissor']\n",
    "    \n",
    "    message = 'Welcome ' + player_one + ' and ' + player_two + ' Lets Play Rock, Paper, Scissor\\n'\n",
    "    print (message)\n",
    "    \n",
    "    player_one_choice = input(str(player_one) + ': Enter your choice ' + str(game_choices) +'\\n\\t' 'You chose: ').lower()\n",
    "    player_two_choice = input(str(player_two) + ': Enter your choice ' + str(game_choices) +'\\n\\t' 'You chose: ').lower()\n",
    "    \n",
    "        #Rules: Rock beats Scissor, Paper beats Rock, Scissor beats Paper#\n",
    "        #Input for each player of selected game_shoice, is not case sensitive#\n",
    "        #Input for play_another_round by a player is not case sensitive#\n",
    "\n",
    "    if player_one_choice == player_two_choice:\n",
    "        print ('*It is a tie - ' + player_one + ' & ' + player_two + ' Chose the same - Try Again*\\n')\n",
    "\n",
    "    elif player_one_choice == 'rock':\n",
    "        if player_two_choice == 'scissor':\n",
    "            print ('*Rock Beats Scissor - ' + player_one + ' Wins!! Congratulations*\\n')\n",
    "        else: \n",
    "            print ('*Paper Beats Rock - ' + player_two + ' Wins!! Congratulations*\\n')\n",
    "\n",
    "    elif player_one_choice == 'paper':\n",
    "        if player_two_choice == 'rock':\n",
    "            print ('*Paper Beats Rock - ' + player_one + ' Wins!! Congratulations*\\n')\n",
    "        else:\n",
    "            print ('*Scissor Beats Paper ' + player_two + ' Wins!! Congratulations*\\n')\n",
    "\n",
    "    elif player_one_choice == 'scissor':\n",
    "        if player_two_choice == 'paper':\n",
    "            print ('*Siccor Beats Paper - ' + player_one + ' Wins!! Congratulations*\\n')\n",
    "        else:\n",
    "            print ('*Rock Beats Scissor - ' + player_two + ' Wins!! Congratulations*\\n')\n",
    "            \n",
    "    play_another_round = input ('Play Again? (Yes/No): ').lower()\n",
    "    if play_another_round != 'yes':\n",
    "        print ('\\tGame has Ended - Come play again soon!!\\n')\n",
    "        break\n",
    "    else:\n",
    "        print ('\\tLets Play Again!!\\n')"
   ]
  },
  {
   "cell_type": "code",
   "execution_count": null,
   "metadata": {},
   "outputs": [],
   "source": []
  }
 ],
 "metadata": {
  "kernelspec": {
   "display_name": "Python 3",
   "language": "python",
   "name": "python3"
  },
  "language_info": {
   "codemirror_mode": {
    "name": "ipython",
    "version": 3
   },
   "file_extension": ".py",
   "mimetype": "text/x-python",
   "name": "python",
   "nbconvert_exporter": "python",
   "pygments_lexer": "ipython3",
   "version": "3.8.5"
  }
 },
 "nbformat": 4,
 "nbformat_minor": 4
}
