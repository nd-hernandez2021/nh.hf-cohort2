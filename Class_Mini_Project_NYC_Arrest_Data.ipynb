{
  "cells": [
    {
      "cell_type": "markdown",
      "metadata": {
        "id": "view-in-github",
        "colab_type": "text"
      },
      "source": [
        "<a href=\"https://colab.research.google.com/github/nd-hernandez2021/nh.hf-cohort2/blob/main/Class_Mini_Project_NYC_Arrest_Data.ipynb\" target=\"_parent\"><img src=\"https://colab.research.google.com/assets/colab-badge.svg\" alt=\"Open In Colab\"/></a>"
      ]
    },
    {
      "cell_type": "code",
      "execution_count": null,
      "metadata": {
        "id": "yOtDKAJBD9Cm"
      },
      "outputs": [],
      "source": [
        ""
      ]
    },
    {
      "cell_type": "code",
      "execution_count": null,
      "metadata": {
        "id": "ABCel5aRD9Ct"
      },
      "outputs": [],
      "source": [
        "## Data Dictionary - Column Information before Data  Clean up and Column Name Changes   \n",
        "  ## ARREST_KEY: Randomly generated persistent ID for each arrest \n",
        "  ## ARREST_DATE: Exact date of arrest for the reported event\n",
        "  ## PD_CD: Three digit internal classification code (more granular than Key Code)\n",
        "  ## PD_DESC: Description of internal classification corresponding with PD code (more granular than Offense Description)\n",
        "  ## KY_CD: Three digit internal classification code (more general category than PD code)\n",
        "  ## OFNS_DESC: Description of internal classification corresponding with KY code (more general category than PD description)\n",
        "  ## LAW_CODE: aw code charges corresponding to the NYS Penal Law, VTL and other various local laws\n",
        "  ## LAW_CAT_CD: Level of offense: felony, misdemeanor, violation \n",
        "  ## ARREST_BORO: Borough of arrest. B(Bronx), S(Staten Island), K(Brooklyn), M(Manhattan), Q(Queens)\n",
        "  ## ARREST_PRECINCT: Precinct where the arrest occurred\n",
        "  ## JURISDICTION_CODE: Jurisdiction responsible for arrest. Jurisdiction codes 0(Patrol), 1(Transit) and 2(Housing) represent NYPD whilst codes 3 and more represent non NYPD jurisdictions\n",
        "  ## AGE_GROUP: Perpetrator’s age within a category\n",
        "  ## PERP_SEX: Perpetrator’s sex description\n",
        "  ## PERP_RACE: Perpetrator’s race description\n",
        "  ## X_COORD_CD: Midblock X-coordinate for New York State Plane Coordinate System, Long Island Zone, NAD 83, units feet (FIPS 3104)\n",
        "  ## Y_COORD_CD: Midblock Y-coordinate for New York State Plane Coordinate System, Long Island Zone, NAD 83, units feet (FIPS 3104)\n",
        "  ## Latitude: Latitude coordinate for Global Coordinate System, WGS 1984, decimal degrees (EPSG 4326) \n",
        "  ## Longitude: Longitude coordinate for Global Coordinate System, WGS 1984, decimal degrees (EPSG 4326)\n"
      ]
    },
    {
      "cell_type": "code",
      "execution_count": null,
      "metadata": {
        "id": "rm1NQmX1D9DA"
      },
      "outputs": [],
      "source": [
        "## Import Python packages and Library to use in my dataset\n",
        "\n",
        "import seaborn as sns\n",
        "%matplotlib inline\n",
        "import numpy as np\n",
        "import pandas as pd\n",
        "import matplotlib.pyplot as plt"
      ]
    },
    {
      "cell_type": "code",
      "execution_count": null,
      "metadata": {
        "id": "dVaRzDDrD9DD"
      },
      "outputs": [],
      "source": [
        "# Import my database\n",
        "\n",
        "df = pd.read_csv ('NYPD_Arrest_Data__Year_to_Date_CSV.csv')"
      ]
    },
    {
      "cell_type": "code",
      "execution_count": null,
      "metadata": {
        "id": "gGF9rHfsD9DF",
        "outputId": "c6ecdf4d-c941-4b33-ad33-8cab31ca1d99"
      },
      "outputs": [
        {
          "name": "stdout",
          "output_type": "stream",
          "text": [
            "<class 'pandas.core.frame.DataFrame'>\n",
            "RangeIndex: 155507 entries, 0 to 155506\n",
            "Data columns (total 19 columns):\n",
            " #   Column                    Non-Null Count   Dtype  \n",
            "---  ------                    --------------   -----  \n",
            " 0   ARREST_KEY                155507 non-null  int64  \n",
            " 1   ARREST_DATE               155507 non-null  object \n",
            " 2   PD_CD                     155478 non-null  float64\n",
            " 3   PD_DESC                   155404 non-null  object \n",
            " 4   KY_CD                     155404 non-null  float64\n",
            " 5   OFNS_DESC                 155404 non-null  object \n",
            " 6   LAW_CODE                  155507 non-null  object \n",
            " 7   LAW_CAT_CD                154114 non-null  object \n",
            " 8   ARREST_BORO               155507 non-null  object \n",
            " 9   ARREST_PRECINCT           155507 non-null  int64  \n",
            " 10  JURISDICTION_CODE         155507 non-null  int64  \n",
            " 11  AGE_GROUP                 155507 non-null  object \n",
            " 12  PERP_SEX                  155507 non-null  object \n",
            " 13  PERP_RACE                 155507 non-null  object \n",
            " 14  X_COORD_CD                155507 non-null  int64  \n",
            " 15  Y_COORD_CD                155507 non-null  int64  \n",
            " 16  Latitude                  155507 non-null  float64\n",
            " 17  Longitude                 155507 non-null  float64\n",
            " 18  New Georeferenced Column  155507 non-null  object \n",
            "dtypes: float64(4), int64(5), object(10)\n",
            "memory usage: 22.5+ MB\n"
          ]
        }
      ],
      "source": [
        "# Function to get a quick overview and dataframe details  \n",
        "# Can also use other functions such as df.describe()\n",
        "\n",
        "df.info()"
      ]
    },
    {
      "cell_type": "code",
      "execution_count": null,
      "metadata": {
        "id": "O7hG_MPND9DK",
        "outputId": "d125c956-5eab-42ef-8e9b-31ea0ca50ee1"
      },
      "outputs": [
        {
          "data": {
            "text/plain": [
              "True"
            ]
          },
          "execution_count": 5,
          "metadata": {},
          "output_type": "execute_result"
        }
      ],
      "source": [
        "# Function to Determine if ARREST_KEY is a unique value or if there are duplicates\n",
        "\n",
        "df['ARREST_KEY'].is_unique"
      ]
    },
    {
      "cell_type": "code",
      "execution_count": null,
      "metadata": {
        "id": "AtnKJnX7D9DO"
      },
      "outputs": [],
      "source": [
        "# After review of my Dataset and the Data Dictionary, there are several Columns that will be\n",
        "# of no use in my data analysis.\n",
        "\n",
        "# Dropping all columns not useful from my dataset analysis.\n",
        "\n",
        "df=df.drop(df.columns[[2,4,14,15,16,17,18]],axis=1)"
      ]
    },
    {
      "cell_type": "code",
      "execution_count": null,
      "metadata": {
        "id": "kQwK173jD9DW",
        "outputId": "abfe152b-ce35-4a2b-9d2a-4cf9e046c414"
      },
      "outputs": [
        {
          "name": "stdout",
          "output_type": "stream",
          "text": [
            "<class 'pandas.core.frame.DataFrame'>\n",
            "RangeIndex: 155507 entries, 0 to 155506\n",
            "Data columns (total 12 columns):\n",
            " #   Column             Non-Null Count   Dtype \n",
            "---  ------             --------------   ----- \n",
            " 0   ARREST_KEY         155507 non-null  int64 \n",
            " 1   ARREST_DATE        155507 non-null  object\n",
            " 2   PD_DESC            155404 non-null  object\n",
            " 3   OFNS_DESC          155404 non-null  object\n",
            " 4   LAW_CODE           155507 non-null  object\n",
            " 5   LAW_CAT_CD         154114 non-null  object\n",
            " 6   ARREST_BORO        155507 non-null  object\n",
            " 7   ARREST_PRECINCT    155507 non-null  int64 \n",
            " 8   JURISDICTION_CODE  155507 non-null  int64 \n",
            " 9   AGE_GROUP          155507 non-null  object\n",
            " 10  PERP_SEX           155507 non-null  object\n",
            " 11  PERP_RACE          155507 non-null  object\n",
            "dtypes: int64(3), object(9)\n",
            "memory usage: 14.2+ MB\n"
          ]
        }
      ],
      "source": [
        "# Function to get a quick overview and dataframe details after all columns not needed were dropped\n",
        "# This dataframe has all data needed to begin my analysis after further cleanup of my data is completed\n",
        "\n",
        "df.info()"
      ]
    },
    {
      "cell_type": "code",
      "execution_count": null,
      "metadata": {
        "id": "3aI7R5bTD9DZ"
      },
      "outputs": [],
      "source": [
        "# Function to rename a few columns to make it easier to read/understand the category for each.\n",
        "\n",
        "df = df.rename(columns={'LAW_CAT_CD' : 'LAW_PENAL_CODE',\n",
        "                        'ARREST_BORO' : 'ARREST_BOROUGH',\n",
        "                        'JURISDICTION_CODE' : 'JURISDICTION_TYPE'})"
      ]
    },
    {
      "cell_type": "code",
      "execution_count": null,
      "metadata": {
        "id": "sH-_QcMXD9Dh"
      },
      "outputs": [],
      "source": [
        ""
      ]
    },
    {
      "cell_type": "code",
      "execution_count": null,
      "metadata": {
        "id": "5NIzToeXD9Dm",
        "outputId": "659f0b98-b83e-48bf-c15e-ec63e11252c8"
      },
      "outputs": [
        {
          "name": "stdout",
          "output_type": "stream",
          "text": [
            "<class 'pandas.core.frame.DataFrame'>\n",
            "RangeIndex: 155507 entries, 0 to 155506\n",
            "Data columns (total 12 columns):\n",
            " #   Column             Non-Null Count   Dtype \n",
            "---  ------             --------------   ----- \n",
            " 0   ARREST_KEY         155507 non-null  int64 \n",
            " 1   ARREST_DATE        155507 non-null  object\n",
            " 2   PD_DESC            155404 non-null  object\n",
            " 3   OFNS_DESC          155404 non-null  object\n",
            " 4   LAW_CODE           155507 non-null  object\n",
            " 5   LAW_PENAL_CODE     154114 non-null  object\n",
            " 6   ARREST_BOROUGH     155507 non-null  object\n",
            " 7   ARREST_PRECINCT    155507 non-null  int64 \n",
            " 8   JURISDICTION_TYPE  155507 non-null  int64 \n",
            " 9   AGE_GROUP          155507 non-null  object\n",
            " 10  PERP_SEX           155507 non-null  object\n",
            " 11  PERP_RACE          155507 non-null  object\n",
            "dtypes: int64(3), object(9)\n",
            "memory usage: 14.2+ MB\n"
          ]
        }
      ],
      "source": [
        "# Function to get a quick overview and details to make sure Columns re-named processed as needed\n",
        "\n",
        "df.info()"
      ]
    },
    {
      "cell_type": "code",
      "execution_count": null,
      "metadata": {
        "id": "N02ymCVyD9Do",
        "outputId": "7b5c6824-2a54-4290-af12-6123074a130f"
      },
      "outputs": [
        {
          "name": "stdout",
          "output_type": "stream",
          "text": [
            "Total PERP_RACE NULL Value = 0 \n",
            "\n",
            "Total PERP_SEX NULL Value = 0 \n",
            "\n",
            "Total AGE_GROUP NULL Value = 0 \n",
            "\n",
            "Total LAW_PENAL_CODE NULL Value = 1393\n"
          ]
        }
      ],
      "source": [
        "# Function to identify the total \"NULL\" value for key Columns I will use in my Data Analysis, if so\n",
        "# those 'NULL' Values will be changed and given a \"Blank\", \"n/a\" or \"Other\" value.\n",
        "\n",
        "NUll_PERP_RACE = df['PERP_RACE'].isna().sum()\n",
        "print ('Total PERP_RACE NULL Value = ' + str(NUll_PERP_RACE),'\\n'),\n",
        "\n",
        "NULL_PERP_SEX = df['PERP_SEX'].isna().sum()\n",
        "print ('Total PERP_SEX NULL Value = ' + str(NULL_PERP_SEX),'\\n'),\n",
        "\n",
        "NULL_AGE_GROUP = df['AGE_GROUP'].isna().sum()\n",
        "print ('Total AGE_GROUP NULL Value = ' + str(NULL_AGE_GROUP),'\\n'),\n",
        "\n",
        "NULL_LAW_PENAL_CODE = df['LAW_PENAL_CODE'].isna().sum()\n",
        "print ('Total LAW_PENAL_CODE NULL Value = ' + str(NULL_LAW_PENAL_CODE))\n",
        "\n",
        "# Only Column with \"Null\" Value is 'LAW_CAT_CD' with a total of 1393 records"
      ]
    },
    {
      "cell_type": "code",
      "execution_count": null,
      "metadata": {
        "id": "56QAcsZyD9Dt"
      },
      "outputs": [],
      "source": [
        "# Function to fill all \"NaN\" values in column 'LAW_CAT_CD' with value \"n/a\"\n",
        "\n",
        "df['LAW_PENAL_CODE'] = df['LAW_PENAL_CODE'].fillna('n/a')"
      ]
    },
    {
      "cell_type": "code",
      "execution_count": null,
      "metadata": {
        "id": "t1rIR6SzD9Dv",
        "outputId": "b8f6f271-4623-4c8c-d1fe-3e743b0e083a"
      },
      "outputs": [
        {
          "data": {
            "text/plain": [
              "LAW_PENAL_CODE\n",
              "F      70867\n",
              "I        230\n",
              "M      82632\n",
              "V        385\n",
              "n/a     1393\n",
              "Name: ARREST_KEY, dtype: int64"
            ]
          },
          "execution_count": 12,
          "metadata": {},
          "output_type": "execute_result"
        }
      ],
      "source": [
        "# Groupby Function on column 'LAW_CAT_CD' to validate the above \"fillna()\" ran as expected and filled\n",
        "# all \"NaN\" values in the column with value \"n/a\"\n",
        "\n",
        "df.groupby(['LAW_PENAL_CODE'])['ARREST_KEY'].count()"
      ]
    },
    {
      "cell_type": "code",
      "execution_count": null,
      "metadata": {
        "id": "4-0xf9NWD9D0",
        "outputId": "fcec2546-f4bf-406e-f87f-62787129a901"
      },
      "outputs": [
        {
          "name": "stdout",
          "output_type": "stream",
          "text": [
            "PERP_RACE\n",
            "AMERICAN INDIAN/ALASKAN NATIVE      443\n",
            "ASIAN / PACIFIC ISLANDER           8593\n",
            "BLACK                             77133\n",
            "BLACK HISPANIC                    13576\n",
            "UNKNOWN                             587\n",
            "WHITE                             17063\n",
            "WHITE HISPANIC                    38112\n",
            "Name: ARREST_KEY, dtype: int64 \n",
            " \n",
            "\n",
            "PERP_SEX\n",
            "F     26597\n",
            "M    128910\n",
            "Name: ARREST_KEY, dtype: int64 \n",
            " \n",
            "\n",
            "AGE_GROUP\n",
            "18-24    28951\n",
            "25-44    88850\n",
            "45-64    30608\n",
            "65+       2298\n",
            "<18       4800\n",
            "Name: ARREST_KEY, dtype: int64 \n",
            " \n",
            "\n",
            "LAW_PENAL_CODE\n",
            "F      70867\n",
            "I        230\n",
            "M      82632\n",
            "V        385\n",
            "n/a     1393\n",
            "Name: ARREST_KEY, dtype: int64 \n",
            " \n",
            "\n",
            "ARREST_BOROUGH\n",
            "B    34018\n",
            "K    41550\n",
            "M    39677\n",
            "Q    33051\n",
            "S     7211\n",
            "Name: ARREST_KEY, dtype: int64\n"
          ]
        }
      ],
      "source": [
        "# Grouping several columns to identify the categories listed for each column in order to determine\n",
        "# if clean up or combination of 'categories' are needed to better organize my data for analysis\n",
        "\n",
        "print(df.groupby(['PERP_RACE'])['ARREST_KEY'].count(),'\\n', '\\n'), # Clena/condensing of data needed\n",
        "print(df.groupby(['PERP_SEX'])['ARREST_KEY'].count(), '\\n', '\\n'), # Data clean - no changes needed\n",
        "print(df.groupby(['AGE_GROUP'])['ARREST_KEY'].count(), '\\n', '\\n'), # Data clean - no changes needed\n",
        "print(df.groupby(['LAW_PENAL_CODE'])['ARREST_KEY'].count(), '\\n', '\\n') # Clena/condensing of data needed\n",
        "print(df.groupby(['ARREST_BOROUGH'])['ARREST_KEY'].count()) # Clena/condensing of data needed"
      ]
    },
    {
      "cell_type": "code",
      "execution_count": null,
      "metadata": {
        "id": "YIk4gKvmD9D1"
      },
      "outputs": [],
      "source": [
        "# PERP_RACE Column categories/names will be condensed to fewer categories and shorter names\n",
        "\n",
        "df = df.replace({'PERP_RACE': {'BLACK HISPANIC':'HISPANIC', \n",
        "                            'WHITE HISPANIC':'HISPANIC', \n",
        "                            'ASIAN / PACIFIC ISLANDER':'ASIAN', \n",
        "                            'AMERICAN INDIAN/ALASKAN NATIVE':'OTHER-AMERICAN'}},\n",
        "                regex=True)"
      ]
    },
    {
      "cell_type": "code",
      "execution_count": null,
      "metadata": {
        "id": "zW6fcG29D9D1",
        "outputId": "72a70de8-8614-4b67-e8e2-d5d75bf6fc85"
      },
      "outputs": [
        {
          "data": {
            "text/plain": [
              "PERP_RACE\n",
              "ASIAN              8593\n",
              "BLACK             77133\n",
              "HISPANIC          51688\n",
              "OTHER-AMERICAN      443\n",
              "UNKNOWN             587\n",
              "WHITE             17063\n",
              "Name: ARREST_KEY, dtype: int64"
            ]
          },
          "execution_count": 15,
          "metadata": {},
          "output_type": "execute_result"
        }
      ],
      "source": [
        "# Groupby Function to validate the above 'PERP_RACE' string replace, ran as expected\n",
        "\n",
        "df.groupby(['PERP_RACE'])['ARREST_KEY'].count()"
      ]
    },
    {
      "cell_type": "code",
      "execution_count": null,
      "metadata": {
        "id": "3gKpTCgJD9D9"
      },
      "outputs": [],
      "source": [
        "# PLAW_CAT_CD Column lists Single letter for Level of Offence, this will be replace\n",
        "# to List the Level of Offence full Category name\n",
        "\n",
        "df = df.replace({'LAW_PENAL_CODE': {'F':'Felony',\n",
        "                                    'I':'Infraction',\n",
        "                                    'M':'Misdemeanor',\n",
        "                                    'V':'Violation'}},\n",
        "                regex=True)"
      ]
    },
    {
      "cell_type": "code",
      "execution_count": null,
      "metadata": {
        "id": "tD5F6q9TD9D9",
        "outputId": "412ba14f-328b-427e-f2c0-f228c4bb9b47"
      },
      "outputs": [
        {
          "data": {
            "text/plain": [
              "LAW_PENAL_CODE\n",
              "Felony         70867\n",
              "Infraction       230\n",
              "Misdemeanor    82632\n",
              "Violation        385\n",
              "n/a             1393\n",
              "Name: ARREST_KEY, dtype: int64"
            ]
          },
          "execution_count": 17,
          "metadata": {},
          "output_type": "execute_result"
        }
      ],
      "source": [
        "## Groupby Function to validate the above 'LAW_CAT_CO' string replace, ran as expected\n",
        "\n",
        "df.groupby(['LAW_PENAL_CODE'])['ARREST_KEY'].count()"
      ]
    },
    {
      "cell_type": "code",
      "execution_count": null,
      "metadata": {
        "id": "4EAFyi4jD9EC"
      },
      "outputs": [],
      "source": [
        "# ARREST_BOROUGH Column lists Single letter for Borough, this will be replaced with Borough full Name\n",
        "\n",
        "df = df.replace({'ARREST_BOROUGH': {'B':'Bronx',\n",
        "                                 'K':'Brooklyn',\n",
        "                                 'Q':'Queens',\n",
        "                                 'M':'Manhattan',\n",
        "                                 'S':'Staten Island'}},\n",
        "                regex=True)"
      ]
    },
    {
      "cell_type": "code",
      "execution_count": null,
      "metadata": {
        "id": "lnn3cD_jD9EE",
        "outputId": "bdc22b20-0a98-4338-acbf-7ae92e1ade90"
      },
      "outputs": [
        {
          "data": {
            "text/plain": [
              "ARREST_BOROUGH\n",
              "Bronx            34018\n",
              "Brooklyn         41550\n",
              "Manhattan        39677\n",
              "Queens           33051\n",
              "Staten Island     7211\n",
              "Name: ARREST_KEY, dtype: int64"
            ]
          },
          "execution_count": 19,
          "metadata": {},
          "output_type": "execute_result"
        }
      ],
      "source": [
        "# Function to check ARREST_BOROUGH Names executed successfuly \n",
        "\n",
        "df.groupby(['ARREST_BOROUGH'])['ARREST_KEY'].count()"
      ]
    },
    {
      "cell_type": "code",
      "execution_count": null,
      "metadata": {
        "id": "whWLpCipD9EH"
      },
      "outputs": [],
      "source": [
        "# AGE_GROUP Column change of the '<18' and '65+' categories and added them withing an \"Age Groups\"\n",
        "\n",
        "df = df.replace({'AGE_GROUP': {'<18':'0-18',\n",
        "                              '65+':'65-99'}})"
      ]
    },
    {
      "cell_type": "code",
      "execution_count": null,
      "metadata": {
        "id": "yBG6oDJaD9EH",
        "outputId": "52fb2999-4591-47d5-8d40-67f5a45ebe1d"
      },
      "outputs": [
        {
          "data": {
            "text/plain": [
              "AGE_GROUP\n",
              "0-18      4800\n",
              "18-24    28951\n",
              "25-44    88850\n",
              "45-64    30608\n",
              "65-99     2298\n",
              "Name: ARREST_KEY, dtype: int64"
            ]
          },
          "execution_count": 21,
          "metadata": {},
          "output_type": "execute_result"
        }
      ],
      "source": [
        "# Function to check AGE_GROUP changes executed successfully \n",
        "\n",
        "df.groupby(['AGE_GROUP'])['ARREST_KEY'].count()"
      ]
    },
    {
      "cell_type": "code",
      "execution_count": null,
      "metadata": {
        "id": "2_YEyP3ND9EM"
      },
      "outputs": [],
      "source": [
        "# Function to Extract the Month and Year from the ARREST_DATE into two new Columns.\n",
        "\n",
        "df['ARREST_YEAR'] = pd.DatetimeIndex(df['ARREST_DATE']).year\n",
        "df['ARREST_MONTH'] = pd.DatetimeIndex(df['ARREST_DATE']).month_name()"
      ]
    },
    {
      "cell_type": "code",
      "execution_count": null,
      "metadata": {
        "id": "dkO7oGOED9EM",
        "outputId": "10da28f1-b603-4088-d89d-22b1a974a224"
      },
      "outputs": [
        {
          "name": "stdout",
          "output_type": "stream",
          "text": [
            "<class 'pandas.core.frame.DataFrame'>\n",
            "RangeIndex: 155507 entries, 0 to 155506\n",
            "Data columns (total 14 columns):\n",
            " #   Column             Non-Null Count   Dtype \n",
            "---  ------             --------------   ----- \n",
            " 0   ARREST_KEY         155507 non-null  int64 \n",
            " 1   ARREST_DATE        155507 non-null  object\n",
            " 2   PD_DESC            155404 non-null  object\n",
            " 3   OFNS_DESC          155404 non-null  object\n",
            " 4   LAW_CODE           155507 non-null  object\n",
            " 5   LAW_PENAL_CODE     155507 non-null  object\n",
            " 6   ARREST_BOROUGH     155507 non-null  object\n",
            " 7   ARREST_PRECINCT    155507 non-null  int64 \n",
            " 8   JURISDICTION_TYPE  155507 non-null  int64 \n",
            " 9   AGE_GROUP          155507 non-null  object\n",
            " 10  PERP_SEX           155507 non-null  object\n",
            " 11  PERP_RACE          155507 non-null  object\n",
            " 12  ARREST_YEAR        155507 non-null  int64 \n",
            " 13  ARREST_MONTH       155507 non-null  object\n",
            "dtypes: int64(4), object(10)\n",
            "memory usage: 16.6+ MB\n"
          ]
        }
      ],
      "source": [
        "# Function to get a quick overview and details to make sure Columns were added with Month and \n",
        "# Year from the ARREST_DATE Column\n",
        "\n",
        "df.info()"
      ]
    },
    {
      "cell_type": "code",
      "execution_count": null,
      "metadata": {
        "id": "ZZ5HtW1AD9EO"
      },
      "outputs": [],
      "source": [
        "# Creating New Database to use for certain specific data category in my Dataset\n",
        "\n",
        "df_Female=df[df['PERP_SEX']== 'F']\n",
        "df_Male=df[df['PERP_SEX']== 'M']"
      ]
    },
    {
      "cell_type": "code",
      "execution_count": null,
      "metadata": {
        "id": "uhAVXVOND9EP"
      },
      "outputs": [],
      "source": [
        "## Begin of visual data analysis and observations for each analytical question ##"
      ]
    },
    {
      "cell_type": "code",
      "execution_count": null,
      "metadata": {
        "id": "iBN5OsTRD9EP",
        "outputId": "ac522ce4-0a2f-4b16-c33d-d5dc45fab725"
      },
      "outputs": [
        {
          "data": {
            "text/plain": [
              "Text(0.5, 1.0, 'Arrest by Month for Each Age Groups Listed')"
            ]
          },
          "execution_count": 54,
          "metadata": {},
          "output_type": "execute_result"
        },
        {
          "data": {
            "image/png": "[encoded data removed]",
            "text/plain": [
              "<Figure size 933.5x288 with 1 Axes>"
            ]
          },
          "metadata": {
            "needs_background": "light"
          },
          "output_type": "display_data"
        }
      ],
      "source": [
        "# Analyze: Generate a chart to gether the arrest by Age Group for each month of hte year,\n",
        "#           Describe your findings based on the visual chart.\n",
        "\n",
        "## Observation:  Age Group 25-44 outnumbers all other Age Groups consistently every month of the\n",
        "#                Year.  Additionally on average, age group 18-24 were slightly higher the first \n",
        "#                Quarter of the year, compared to age group 45-64 - the exact opposite occurs\n",
        "#                the other three Quarter of the year.\n",
        "\n",
        "\n",
        "category_order_month = ['January', 'February', 'March', 'April', 'May', 'June',\n",
        "                 'July', 'August', 'September', 'October', 'November', 'December']\n",
        "sns.catplot(x=\"ARREST_MONTH\",\n",
        "            data=df,\n",
        "            hue='AGE_GROUP',\n",
        "            kind='count',\n",
        "            order=category_order_month,\n",
        "            height=4,\n",
        "            aspect=3)\n",
        "plt.title('Arrest by Month for Each Age Groups Listed', size=35)"
      ]
    },
    {
      "cell_type": "code",
      "execution_count": null,
      "metadata": {
        "id": "iwBA01BoD9EQ",
        "outputId": "0c92cec8-6c0e-4840-a56f-c4fd2f0863bc"
      },
      "outputs": [
        {
          "data": {
            "text/plain": [
              "Text(0.5, 1.0, 'Age Group Arrest Volume by Borough')"
            ]
          },
          "execution_count": 56,
          "metadata": {},
          "output_type": "execute_result"
        },
        {
          "data": {
            "image/png": "[encoded data removed]",
            "text/plain": [
              "<Figure size 679.875x288 with 1 Axes>"
            ]
          },
          "metadata": {
            "needs_background": "light"
          },
          "output_type": "display_data"
        }
      ],
      "source": [
        "# Analyze: Generate a chart to gather the arrest by Boroughs for each Age Group of the year,\n",
        "#           Describe your findings based on the visual chart.\n",
        "\n",
        "## Observation:  Age Group 25-44 were the highest of any other Age Groups and based on volume, \n",
        "#                Brooklyn and Manhattan were the most arrests in all of 2021\n",
        "\n",
        "category_order = ['0-18', '18-24', '25-44', '45-64', '65-99']\n",
        "sns.set_palette('tab10')\n",
        "sns.catplot(x=\"AGE_GROUP\", \n",
        "            data=df, \n",
        "            hue='ARREST_BOROUGH', \n",
        "            kind='count', \n",
        "            height=4,\n",
        "            aspect=2,\n",
        "            order=category_order,\n",
        "            palette='tab10')\n",
        "plt.title('Age Group Arrest Volume by Borough', size=25)"
      ]
    },
    {
      "cell_type": "code",
      "execution_count": null,
      "metadata": {
        "id": "9IJarodhD9EQ",
        "outputId": "67058dcd-241d-41df-db34-3ac42d0bb2e1"
      },
      "outputs": [
        {
          "data": {
            "text/plain": [
              "Text(0.5, 1.0, 'Borough Arrests by Perp Gender')"
            ]
          },
          "execution_count": 57,
          "metadata": {},
          "output_type": "execute_result"
        },
        {
          "data": {
            "image/png": "[encoded data removed]",
            "text/plain": [
              "<Figure size 679.875x288 with 1 Axes>"
            ]
          },
          "metadata": {
            "needs_background": "light"
          },
          "output_type": "display_data"
        }
      ],
      "source": [
        "# Analyze: Compare Number of arrests by Borough for by PER SEX Gender\n",
        "\n",
        "## Observation:  Volume of arrests for the Female Perps was slighlty and consistently  \n",
        "#                the same across all Boroughs (except Staten Island) compared to the Male Perp\n",
        "#                counterparts where Brooklyn  and Manhattan were the top Boroughs for Arrests \n",
        "#                made in 2021.\n",
        "\n",
        "sns.set_palette('tab10')\n",
        "sns.catplot(x=\"PERP_SEX\", \n",
        "            data=df, \n",
        "            hue='ARREST_BOROUGH', \n",
        "            kind='count', \n",
        "            height=4,\n",
        "            aspect=2,\n",
        "            palette='tab10')\n",
        "plt.title('Borough Arrests by Perp Gender', size=25)"
      ]
    },
    {
      "cell_type": "code",
      "execution_count": null,
      "metadata": {
        "id": "SBZ8EspdD9ET",
        "outputId": "0d89795e-8016-4653-9e14-888cc8f204e0"
      },
      "outputs": [
        {
          "data": {
            "text/plain": [
              "Text(0.5, 1.0, 'Male Perp, Arrest Violation by Borough')"
            ]
          },
          "execution_count": 50,
          "metadata": {},
          "output_type": "execute_result"
        },
        {
          "data": {
            "image/png": "[encoded data removed]",
            "text/plain": [
              "<Figure size 679.875x288 with 1 Axes>"
            ]
          },
          "metadata": {
            "needs_background": "light"
          },
          "output_type": "display_data"
        },
        {
          "data": {
            "image/png": "[encoded data removed]",
            "text/plain": [
              "<Figure size 679.875x288 with 1 Axes>"
            ]
          },
          "metadata": {
            "needs_background": "light"
          },
          "output_type": "display_data"
        }
      ],
      "source": [
        "# Analyze: Looking the Penal Code with the most arrests by borough - which borough had the \n",
        "#          largest difference per Penal code between Male Perps, vs. Female Perps\n",
        "\n",
        "## Observation: The Bronx appears to be the Borough where there were significantly less female\n",
        "#               perps/offenders on aveage, compared to the Male perps/offenders in 2021\n",
        "\n",
        "sns.set_palette('tab10')\n",
        "sns.catplot(x=\"LAW_PENAL_CODE\", \n",
        "            data=df_Male, \n",
        "            hue='ARREST_BOROUGH', \n",
        "            kind='count', \n",
        "            height=4,\n",
        "            aspect=2,\n",
        "            palette='tab10')\n",
        "plt.title('Female Perp, Arrest Violations by Borough', size=25)\n",
        "\n",
        "\n",
        "sns.set_palette('tab10')\n",
        "sns.catplot(x=\"LAW_PENAL_CODE\", \n",
        "            data=df_Female, \n",
        "            hue='ARREST_BOROUGH', \n",
        "            kind='count', \n",
        "            height=4,\n",
        "            aspect=2,\n",
        "            palette='tab10')\n",
        "plt.title('Male Perp, Arrest Violations by Borough', size=25)\n"
      ]
    },
    {
      "cell_type": "code",
      "execution_count": null,
      "metadata": {
        "id": "FAwzC3UJD9ET"
      },
      "outputs": [],
      "source": [
        ""
      ]
    }
  ],
  "metadata": {
    "kernelspec": {
      "display_name": "Python 3",
      "language": "python",
      "name": "python3"
    },
    "language_info": {
      "codemirror_mode": {
        "name": "ipython",
        "version": 3
      },
      "file_extension": ".py",
      "mimetype": "text/x-python",
      "name": "python",
      "nbconvert_exporter": "python",
      "pygments_lexer": "ipython3",
      "version": "3.8.5"
    },
    "colab": {
      "name": "Class Mini Project NYC. Arrest Data.ipynb",
      "provenance": [],
      "collapsed_sections": [],
      "include_colab_link": true
    }
  },
  "nbformat": 4,
  "nbformat_minor": 0
}