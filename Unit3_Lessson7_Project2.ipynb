{
  "nbformat": 4,
  "nbformat_minor": 0,
  "metadata": {
    "colab": {
      "name": "Unit3_Lessson7_Project2.ipynb",
      "provenance": [],
      "collapsed_sections": [],
      "authorship_tag": "ABX9TyMxlnrIAFV2w7e6lCAgE72q",
      "include_colab_link": true
    },
    "kernelspec": {
      "name": "python3",
      "display_name": "Python 3"
    },
    "language_info": {
      "name": "python"
    }
  },
  "cells": [
    {
      "cell_type": "markdown",
      "metadata": {
        "id": "view-in-github",
        "colab_type": "text"
      },
      "source": [
        "<a href=\"https://colab.research.google.com/github/nd-hernandez2021/nh.hf-cohort2/blob/main/Unit3_Lessson7_Project2.ipynb\" target=\"_parent\"><img src=\"https://colab.research.google.com/assets/colab-badge.svg\" alt=\"Open In Colab\"/></a>"
      ]
    },
    {
      "cell_type": "markdown",
      "source": [
        "#Assignment Details:\n",
        "####Due Date: 02/25/2022 no later than 11:59 PM\n",
        "####The dataset has multiple medical indictors and diseases, your task is to create a descriptive analysis of data within the dataset.\n",
        "\n",
        "####For example, you’re interested in investigating heart disease. Within the dataset, can you find any indicators that seem to influence the risk of heart disease?  How do different states compare?\n",
        "\n",
        "##For this dataset, you will need to use:\n",
        "#####-Data wrangling and cleaning\n",
        "#####-Renaming variables\n",
        "#####-Filtering data\n",
        "#####-Data aggregation \n",
        "#####-Data Visualization techniques\n",
        "#####-Descriptive statistics \n",
        "#####-Detailed descriptions of everything in your dataset – look up how to add markdown to your notebook\n"
      ],
      "metadata": {
        "id": "p3qMdOtz4eae"
      }
    },
    {
      "cell_type": "code",
      "source": [
        "## Import Python packages and Library to use in my dataset\n",
        "\n",
        "import seaborn as sns\n",
        "%matplotlib inline\n",
        "import numpy as np\n",
        "import pandas as pd\n",
        "import matplotlib.pyplot as plt"
      ],
      "metadata": {
        "id": "SMcwQErn4bN2"
      },
      "execution_count": 1,
      "outputs": []
    },
    {
      "cell_type": "code",
      "source": [
        "#Import my database\n",
        "\n",
        "df = pd.read_csv ('https://raw.githubusercontent.com/niteen11/DataAnalyticsAcademy/master/Python/dataset_diabetes/diabetic_data.csv')"
      ],
      "metadata": {
        "id": "TsCDRCi34bW6"
      },
      "execution_count": 2,
      "outputs": []
    },
    {
      "cell_type": "code",
      "source": [
        "# Function to get a quick overview and dataframe details  \n",
        "# Can also use other functions such as df.describe()\n",
        "\n",
        "df.info()"
      ],
      "metadata": {
        "colab": {
          "base_uri": "https://localhost:8080/"
        },
        "id": "dLkiyf_E4bdQ",
        "outputId": "48237c8b-e7e1-4cf2-e1f1-448f3b3b3122"
      },
      "execution_count": 3,
      "outputs": [
        {
          "output_type": "stream",
          "name": "stdout",
          "text": [
            "<class 'pandas.core.frame.DataFrame'>\n",
            "RangeIndex: 101766 entries, 0 to 101765\n",
            "Data columns (total 50 columns):\n",
            " #   Column                    Non-Null Count   Dtype \n",
            "---  ------                    --------------   ----- \n",
            " 0   encounter_id              101766 non-null  int64 \n",
            " 1   patient_nbr               101766 non-null  int64 \n",
            " 2   race                      101766 non-null  object\n",
            " 3   gender                    101766 non-null  object\n",
            " 4   age                       101766 non-null  object\n",
            " 5   weight                    101766 non-null  object\n",
            " 6   admission_type_id         101766 non-null  int64 \n",
            " 7   discharge_disposition_id  101766 non-null  int64 \n",
            " 8   admission_source_id       101766 non-null  int64 \n",
            " 9   time_in_hospital          101766 non-null  int64 \n",
            " 10  payer_code                101766 non-null  object\n",
            " 11  medical_specialty         101766 non-null  object\n",
            " 12  num_lab_procedures        101766 non-null  int64 \n",
            " 13  num_procedures            101766 non-null  int64 \n",
            " 14  num_medications           101766 non-null  int64 \n",
            " 15  number_outpatient         101766 non-null  int64 \n",
            " 16  number_emergency          101766 non-null  int64 \n",
            " 17  number_inpatient          101766 non-null  int64 \n",
            " 18  diag_1                    101766 non-null  object\n",
            " 19  diag_2                    101766 non-null  object\n",
            " 20  diag_3                    101766 non-null  object\n",
            " 21  number_diagnoses          101766 non-null  int64 \n",
            " 22  max_glu_serum             101766 non-null  object\n",
            " 23  A1Cresult                 101766 non-null  object\n",
            " 24  metformin                 101766 non-null  object\n",
            " 25  repaglinide               101766 non-null  object\n",
            " 26  nateglinide               101766 non-null  object\n",
            " 27  chlorpropamide            101766 non-null  object\n",
            " 28  glimepiride               101766 non-null  object\n",
            " 29  acetohexamide             101766 non-null  object\n",
            " 30  glipizide                 101766 non-null  object\n",
            " 31  glyburide                 101766 non-null  object\n",
            " 32  tolbutamide               101766 non-null  object\n",
            " 33  pioglitazone              101766 non-null  object\n",
            " 34  rosiglitazone             101766 non-null  object\n",
            " 35  acarbose                  101766 non-null  object\n",
            " 36  miglitol                  101766 non-null  object\n",
            " 37  troglitazone              101766 non-null  object\n",
            " 38  tolazamide                101766 non-null  object\n",
            " 39  examide                   101766 non-null  object\n",
            " 40  citoglipton               101766 non-null  object\n",
            " 41  insulin                   101766 non-null  object\n",
            " 42  glyburide-metformin       101766 non-null  object\n",
            " 43  glipizide-metformin       101766 non-null  object\n",
            " 44  glimepiride-pioglitazone  101766 non-null  object\n",
            " 45  metformin-rosiglitazone   101766 non-null  object\n",
            " 46  metformin-pioglitazone    101766 non-null  object\n",
            " 47  change                    101766 non-null  object\n",
            " 48  diabetesMed               101766 non-null  object\n",
            " 49  readmitted                101766 non-null  object\n",
            "dtypes: int64(13), object(37)\n",
            "memory usage: 38.8+ MB\n"
          ]
        }
      ]
    },
    {
      "cell_type": "code",
      "source": [
        "# Dataset view from above has a lot of Columns and information I do not need for my analysys. \n",
        "# Dropping all columns not useful from my dataset.\n",
        "\n",
        "df=df.drop(df.columns[[5,6,7,8,10,11,15,16,17,18,19,20,22,\n",
        "                       24,25,26,27,28,29,30,31,32,33,34,35,36,\n",
        "                       37,38,39,40,41,42,43,44,45,46,47]],axis=1)"
      ],
      "metadata": {
        "id": "vubktAXo4bjW"
      },
      "execution_count": 4,
      "outputs": []
    },
    {
      "cell_type": "code",
      "source": [
        "# Function to get a quick overview and dataframe details after all columns not needed were dropped\n",
        "# This datafram has all the data i need to begin my analysis after furhter clean up of my data is done/\n",
        "df.info()"
      ],
      "metadata": {
        "colab": {
          "base_uri": "https://localhost:8080/"
        },
        "id": "zc_cnODU4boW",
        "outputId": "99f777f6-df7c-4eb9-d4fe-127b9d628454"
      },
      "execution_count": 5,
      "outputs": [
        {
          "output_type": "stream",
          "name": "stdout",
          "text": [
            "<class 'pandas.core.frame.DataFrame'>\n",
            "RangeIndex: 101766 entries, 0 to 101765\n",
            "Data columns (total 13 columns):\n",
            " #   Column              Non-Null Count   Dtype \n",
            "---  ------              --------------   ----- \n",
            " 0   encounter_id        101766 non-null  int64 \n",
            " 1   patient_nbr         101766 non-null  int64 \n",
            " 2   race                101766 non-null  object\n",
            " 3   gender              101766 non-null  object\n",
            " 4   age                 101766 non-null  object\n",
            " 5   time_in_hospital    101766 non-null  int64 \n",
            " 6   num_lab_procedures  101766 non-null  int64 \n",
            " 7   num_procedures      101766 non-null  int64 \n",
            " 8   num_medications     101766 non-null  int64 \n",
            " 9   number_diagnoses    101766 non-null  int64 \n",
            " 10  A1Cresult           101766 non-null  object\n",
            " 11  diabetesMed         101766 non-null  object\n",
            " 12  readmitted          101766 non-null  object\n",
            "dtypes: int64(7), object(6)\n",
            "memory usage: 10.1+ MB\n"
          ]
        }
      ]
    },
    {
      "cell_type": "code",
      "source": [
        "# Groupby for each Object Datatype Column to see what categorys are listed and total volume for each\n",
        "# to continue to clean up my Dataset\n",
        "\n",
        "#   1 - Race Column consists of '?' category - these will be changed and grouped wtih 'Other' Category\n",
        "#   2 - Gender Column contains 3 rows of \"unknown/invalid\" - these rows will be changed to 'Female'\n",
        "#       or 'Male' to clean data.  the change is minimal and wont impact data analysys\n",
        "#   3 - Age Column is actually group of ages and will be kept as is.  \n",
        "\n",
        "df.groupby(['race'])['encounter_id'].count(), df.groupby(['gender'])['encounter_id'].count(), df.groupby(['age'])['encounter_id'].count()\n",
        "\n",
        "# There is no break in the output below, however there are three separate groupby tables as listed above"
      ],
      "metadata": {
        "colab": {
          "base_uri": "https://localhost:8080/"
        },
        "id": "QgJpR5q_4brH",
        "outputId": "ea28f75e-9c84-49b6-8c92-2aabaa9deadd"
      },
      "execution_count": 8,
      "outputs": [
        {
          "output_type": "execute_result",
          "data": {
            "text/plain": [
              "(race\n",
              " ?                   2273\n",
              " AfricanAmerican    19210\n",
              " Asian                641\n",
              " Caucasian          76099\n",
              " Hispanic            2037\n",
              " Other               1506\n",
              " Name: encounter_id, dtype: int64, gender\n",
              " Female             54708\n",
              " Male               47055\n",
              " Unknown/Invalid        3\n",
              " Name: encounter_id, dtype: int64, age\n",
              " [0-10)        161\n",
              " [10-20)       691\n",
              " [20-30)      1657\n",
              " [30-40)      3775\n",
              " [40-50)      9685\n",
              " [50-60)     17256\n",
              " [60-70)     22483\n",
              " [70-80)     26068\n",
              " [80-90)     17197\n",
              " [90-100)     2793\n",
              " Name: encounter_id, dtype: int64)"
            ]
          },
          "metadata": {},
          "execution_count": 8
        }
      ]
    },
    {
      "cell_type": "code",
      "source": [
        "## in the Race Column - Replace all \"?\" values and grouped them with already existing \"Other\" category\n",
        "## (Could have also renamed these as 'Unknow' and used as it's own category ???)\n",
        "df['race'] = df['race'].str.replace('?', 'Other')"
      ],
      "metadata": {
        "colab": {
          "base_uri": "https://localhost:8080/"
        },
        "id": "KChZmQmH4bt6",
        "outputId": "e4929a18-f8be-452f-fbfd-9631c594deac"
      },
      "execution_count": 13,
      "outputs": [
        {
          "output_type": "stream",
          "name": "stderr",
          "text": [
            "/usr/local/lib/python3.7/dist-packages/ipykernel_launcher.py:3: FutureWarning: The default value of regex will change from True to False in a future version. In addition, single character regular expressions will *not* be treated as literal strings when regex=True.\n",
            "  This is separate from the ipykernel package so we can avoid doing imports until\n"
          ]
        }
      ]
    },
    {
      "cell_type": "code",
      "source": [
        "## Function remove unwanted characters from the 'age' column in my Dataset. \n",
        "## Remoing the '[' and ')' at the beggining and end of my age group categories\n",
        "\n",
        "df['age'] = df['age'].str.strip('[)')"
      ],
      "metadata": {
        "id": "kK_iNsFC8Lw7"
      },
      "execution_count": 12,
      "outputs": []
    },
    {
      "cell_type": "code",
      "source": [
        "# Function to Locate the three rowa with value 'Unknown/Invalid' in genter column to manually \n",
        "# change and assin a value that aligns with the rest of the column values. \n",
        "\n",
        "#   As there are only three rows in a dataset of over 100K rows, I determined this would not impact\n",
        "#   my data analysis later, but felt it was important to keep the rows instead of dropping them\n",
        "\n",
        "df.loc[df['gender']== 'Unknown/Invalid']"
      ],
      "metadata": {
        "colab": {
          "base_uri": "https://localhost:8080/",
          "height": 143
        },
        "id": "B-aDYMeM4bvb",
        "outputId": "b414ac1f-1c91-4b05-f271-37dce2fb0f80"
      },
      "execution_count": 14,
      "outputs": [
        {
          "output_type": "execute_result",
          "data": {
            "text/html": [
              "\n",
              "  <div id=\"df-0de3ca8f-ac4c-4f93-b625-67917a6a15a0\">\n",
              "    <div class=\"colab-df-container\">\n",
              "      <div>\n",
              "<style scoped>\n",
              "    .dataframe tbody tr th:only-of-type {\n",
              "        vertical-align: middle;\n",
              "    }\n",
              "\n",
              "    .dataframe tbody tr th {\n",
              "        vertical-align: top;\n",
              "    }\n",
              "\n",
              "    .dataframe thead th {\n",
              "        text-align: right;\n",
              "    }\n",
              "</style>\n",
              "<table border=\"1\" class=\"dataframe\">\n",
              "  <thead>\n",
              "    <tr style=\"text-align: right;\">\n",
              "      <th></th>\n",
              "      <th>encounter_id</th>\n",
              "      <th>patient_nbr</th>\n",
              "      <th>race</th>\n",
              "      <th>gender</th>\n",
              "      <th>age</th>\n",
              "      <th>time_in_hospital</th>\n",
              "      <th>num_lab_procedures</th>\n",
              "      <th>num_procedures</th>\n",
              "      <th>num_medications</th>\n",
              "      <th>number_diagnoses</th>\n",
              "      <th>A1Cresult</th>\n",
              "      <th>diabetesMed</th>\n",
              "      <th>readmitted</th>\n",
              "    </tr>\n",
              "  </thead>\n",
              "  <tbody>\n",
              "    <tr>\n",
              "      <th>30506</th>\n",
              "      <td>98634858</td>\n",
              "      <td>100695042</td>\n",
              "      <td>Other</td>\n",
              "      <td>Unknown/Invalid</td>\n",
              "      <td>70-80</td>\n",
              "      <td>1</td>\n",
              "      <td>5</td>\n",
              "      <td>5</td>\n",
              "      <td>22</td>\n",
              "      <td>4</td>\n",
              "      <td>None</td>\n",
              "      <td>Yes</td>\n",
              "      <td>NO</td>\n",
              "    </tr>\n",
              "    <tr>\n",
              "      <th>75551</th>\n",
              "      <td>226864668</td>\n",
              "      <td>60524946</td>\n",
              "      <td>Other</td>\n",
              "      <td>Unknown/Invalid</td>\n",
              "      <td>60-70</td>\n",
              "      <td>1</td>\n",
              "      <td>38</td>\n",
              "      <td>1</td>\n",
              "      <td>6</td>\n",
              "      <td>5</td>\n",
              "      <td>None</td>\n",
              "      <td>No</td>\n",
              "      <td>NO</td>\n",
              "    </tr>\n",
              "    <tr>\n",
              "      <th>82573</th>\n",
              "      <td>257364294</td>\n",
              "      <td>78119847</td>\n",
              "      <td>Other</td>\n",
              "      <td>Unknown/Invalid</td>\n",
              "      <td>70-80</td>\n",
              "      <td>8</td>\n",
              "      <td>59</td>\n",
              "      <td>2</td>\n",
              "      <td>21</td>\n",
              "      <td>9</td>\n",
              "      <td>None</td>\n",
              "      <td>Yes</td>\n",
              "      <td>NO</td>\n",
              "    </tr>\n",
              "  </tbody>\n",
              "</table>\n",
              "</div>\n",
              "      <button class=\"colab-df-convert\" onclick=\"convertToInteractive('df-0de3ca8f-ac4c-4f93-b625-67917a6a15a0')\"\n",
              "              title=\"Convert this dataframe to an interactive table.\"\n",
              "              style=\"display:none;\">\n",
              "        \n",
              "  <svg xmlns=\"http://www.w3.org/2000/svg\" height=\"24px\"viewBox=\"0 0 24 24\"\n",
              "       width=\"24px\">\n",
              "    <path d=\"M0 0h24v24H0V0z\" fill=\"none\"/>\n",
              "    <path d=\"M18.56 5.44l.94 2.06.94-2.06 2.06-.94-2.06-.94-.94-2.06-.94 2.06-2.06.94zm-11 1L8.5 8.5l.94-2.06 2.06-.94-2.06-.94L8.5 2.5l-.94 2.06-2.06.94zm10 10l.94 2.06.94-2.06 2.06-.94-2.06-.94-.94-2.06-.94 2.06-2.06.94z\"/><path d=\"M17.41 7.96l-1.37-1.37c-.4-.4-.92-.59-1.43-.59-.52 0-1.04.2-1.43.59L10.3 9.45l-7.72 7.72c-.78.78-.78 2.05 0 2.83L4 21.41c.39.39.9.59 1.41.59.51 0 1.02-.2 1.41-.59l7.78-7.78 2.81-2.81c.8-.78.8-2.07 0-2.86zM5.41 20L4 18.59l7.72-7.72 1.47 1.35L5.41 20z\"/>\n",
              "  </svg>\n",
              "      </button>\n",
              "      \n",
              "  <style>\n",
              "    .colab-df-container {\n",
              "      display:flex;\n",
              "      flex-wrap:wrap;\n",
              "      gap: 12px;\n",
              "    }\n",
              "\n",
              "    .colab-df-convert {\n",
              "      background-color: #E8F0FE;\n",
              "      border: none;\n",
              "      border-radius: 50%;\n",
              "      cursor: pointer;\n",
              "      display: none;\n",
              "      fill: #1967D2;\n",
              "      height: 32px;\n",
              "      padding: 0 0 0 0;\n",
              "      width: 32px;\n",
              "    }\n",
              "\n",
              "    .colab-df-convert:hover {\n",
              "      background-color: #E2EBFA;\n",
              "      box-shadow: 0px 1px 2px rgba(60, 64, 67, 0.3), 0px 1px 3px 1px rgba(60, 64, 67, 0.15);\n",
              "      fill: #174EA6;\n",
              "    }\n",
              "\n",
              "    [theme=dark] .colab-df-convert {\n",
              "      background-color: #3B4455;\n",
              "      fill: #D2E3FC;\n",
              "    }\n",
              "\n",
              "    [theme=dark] .colab-df-convert:hover {\n",
              "      background-color: #434B5C;\n",
              "      box-shadow: 0px 1px 3px 1px rgba(0, 0, 0, 0.15);\n",
              "      filter: drop-shadow(0px 1px 2px rgba(0, 0, 0, 0.3));\n",
              "      fill: #FFFFFF;\n",
              "    }\n",
              "  </style>\n",
              "\n",
              "      <script>\n",
              "        const buttonEl =\n",
              "          document.querySelector('#df-0de3ca8f-ac4c-4f93-b625-67917a6a15a0 button.colab-df-convert');\n",
              "        buttonEl.style.display =\n",
              "          google.colab.kernel.accessAllowed ? 'block' : 'none';\n",
              "\n",
              "        async function convertToInteractive(key) {\n",
              "          const element = document.querySelector('#df-0de3ca8f-ac4c-4f93-b625-67917a6a15a0');\n",
              "          const dataTable =\n",
              "            await google.colab.kernel.invokeFunction('convertToInteractive',\n",
              "                                                     [key], {});\n",
              "          if (!dataTable) return;\n",
              "\n",
              "          const docLinkHtml = 'Like what you see? Visit the ' +\n",
              "            '<a target=\"_blank\" href=https://colab.research.google.com/notebooks/data_table.ipynb>data table notebook</a>'\n",
              "            + ' to learn more about interactive tables.';\n",
              "          element.innerHTML = '';\n",
              "          dataTable['output_type'] = 'display_data';\n",
              "          await google.colab.output.renderOutput(dataTable, element);\n",
              "          const docLink = document.createElement('div');\n",
              "          docLink.innerHTML = docLinkHtml;\n",
              "          element.appendChild(docLink);\n",
              "        }\n",
              "      </script>\n",
              "    </div>\n",
              "  </div>\n",
              "  "
            ],
            "text/plain": [
              "       encounter_id  patient_nbr   race  ... A1Cresult diabetesMed  readmitted\n",
              "30506      98634858    100695042  Other  ...      None         Yes          NO\n",
              "75551     226864668     60524946  Other  ...      None          No          NO\n",
              "82573     257364294     78119847  Other  ...      None         Yes          NO\n",
              "\n",
              "[3 rows x 13 columns]"
            ]
          },
          "metadata": {},
          "execution_count": 14
        }
      ]
    },
    {
      "cell_type": "code",
      "source": [
        "# Rows located that contain 'Unknown/Invalid' in the Gender Column are being randomnly assigned \n",
        "# a value of 'Male' or 'Felmale' to align with all other records in this column\n",
        "\n",
        "df.loc[30506,'gender'] = 'Female'\n",
        "df.loc[75551,'gender'] = 'Male'\n",
        "df.loc[82573,'gender'] = 'Female'\n",
        "\n",
        "df.groupby(['gender'])['encounter_id'].count()\n",
        "\n",
        "# Output Groupby now reflects all records with wither 'Female', or 'Male' gender"
      ],
      "metadata": {
        "colab": {
          "base_uri": "https://localhost:8080/"
        },
        "id": "keA9wS-X4bxO",
        "outputId": "fb863420-8aac-40eb-f62b-d69be7bebb69"
      },
      "execution_count": 15,
      "outputs": [
        {
          "output_type": "execute_result",
          "data": {
            "text/plain": [
              "gender\n",
              "Female    54710\n",
              "Male      47056\n",
              "Name: encounter_id, dtype: int64"
            ]
          },
          "metadata": {},
          "execution_count": 15
        }
      ]
    },
    {
      "cell_type": "code",
      "source": [
        "# Renamed remaining columns in my Dataset to clarify and add level of detial to comlumn headers\n",
        "# to align with the column values\n",
        "\n",
        "df = df.rename(columns={\n",
        "    'encounter_id' : 'visit_id', \n",
        "    'race' : 'patient_race',\n",
        "    'gender' : 'patient_gender',\n",
        "    'age' : 'patient_age_group', \n",
        "    'time_in_hospital' : 'days_in_hospital', \n",
        "    'number_diagnoses' : 'num_diagnoses'})"
      ],
      "metadata": {
        "id": "RyNowQ9W7i8X"
      },
      "execution_count": 17,
      "outputs": []
    },
    {
      "cell_type": "code",
      "source": [
        "# Function to get a quick overview and dataframe details after modification and clean up of Dataset\n",
        "\n",
        "df.info()"
      ],
      "metadata": {
        "colab": {
          "base_uri": "https://localhost:8080/"
        },
        "id": "9KicPEKE7i-g",
        "outputId": "07567589-6847-4042-d9b2-39877b1c55ac"
      },
      "execution_count": 18,
      "outputs": [
        {
          "output_type": "stream",
          "name": "stdout",
          "text": [
            "<class 'pandas.core.frame.DataFrame'>\n",
            "RangeIndex: 101766 entries, 0 to 101765\n",
            "Data columns (total 13 columns):\n",
            " #   Column              Non-Null Count   Dtype \n",
            "---  ------              --------------   ----- \n",
            " 0   visit_id            101766 non-null  int64 \n",
            " 1   patient_nbr         101766 non-null  int64 \n",
            " 2   patient_race        101766 non-null  object\n",
            " 3   patient_gender      101766 non-null  object\n",
            " 4   patient_age_group   101766 non-null  object\n",
            " 5   days_in_hospital    101766 non-null  int64 \n",
            " 6   num_lab_procedures  101766 non-null  int64 \n",
            " 7   num_procedures      101766 non-null  int64 \n",
            " 8   num_medications     101766 non-null  int64 \n",
            " 9   num_diagnoses       101766 non-null  int64 \n",
            " 10  A1Cresult           101766 non-null  object\n",
            " 11  diabetesMed         101766 non-null  object\n",
            " 12  readmitted          101766 non-null  object\n",
            "dtypes: int64(7), object(6)\n",
            "memory usage: 10.1+ MB\n"
          ]
        }
      ]
    },
    {
      "cell_type": "code",
      "source": [
        "# Creating Separare Database for each of the Patient Races to use later in my Analysys, as well \n",
        "# as creating a database for easier view of data in list format.\n",
        "\n",
        "df2_caucasian=df[df['patient_race']=='Caucasian']\n",
        "df2_african_american=df[df['patient_race']=='AfricanAmerican']\n",
        "df2_asian=df[df['patient_race']=='Asian']\n",
        "df2_hipanic=df[df['patient_race']=='Hispanic']\n",
        "df2_other=df[df['patient_race']=='Other']\n",
        "df3=df.groupby(['patient_race'])['visit_id'].count()\n",
        "df4=df.groupby(['patient_age_group'])['visit_id'].count()"
      ],
      "metadata": {
        "id": "_mkzK9hA7jAJ"
      },
      "execution_count": 19,
      "outputs": []
    },
    {
      "cell_type": "code",
      "source": [
        "# databsee created for View volume of by patient race\n",
        "df3"
      ],
      "metadata": {
        "colab": {
          "base_uri": "https://localhost:8080/"
        },
        "id": "-4Fr2OAv7jB-",
        "outputId": "e2021e2e-a382-4504-9cbc-9ae06280accb"
      },
      "execution_count": 20,
      "outputs": [
        {
          "output_type": "execute_result",
          "data": {
            "text/plain": [
              "patient_race\n",
              "AfricanAmerican    19210\n",
              "Asian                641\n",
              "Caucasian          76099\n",
              "Hispanic            2037\n",
              "Other               3779\n",
              "Name: visit_id, dtype: int64"
            ]
          },
          "metadata": {},
          "execution_count": 20
        }
      ]
    },
    {
      "cell_type": "code",
      "source": [
        "# databsee created for View volume of by patient age group\n",
        "df4"
      ],
      "metadata": {
        "colab": {
          "base_uri": "https://localhost:8080/"
        },
        "id": "OBdU1x1M4bzb",
        "outputId": "0c8f98cd-6fea-40ef-c6af-9ff1da49b6a0"
      },
      "execution_count": 21,
      "outputs": [
        {
          "output_type": "execute_result",
          "data": {
            "text/plain": [
              "patient_age_group\n",
              "0-10        161\n",
              "10-20       691\n",
              "20-30      1657\n",
              "30-40      3775\n",
              "40-50      9685\n",
              "50-60     17256\n",
              "60-70     22483\n",
              "70-80     26068\n",
              "80-90     17197\n",
              "90-100     2793\n",
              "Name: visit_id, dtype: int64"
            ]
          },
          "metadata": {},
          "execution_count": 21
        }
      ]
    },
    {
      "cell_type": "code",
      "source": [
        ""
      ],
      "metadata": {
        "id": "RZFl_GhX8rh_"
      },
      "execution_count": 19,
      "outputs": []
    },
    {
      "cell_type": "markdown",
      "source": [
        "##Begin of visual data analysis and observations for each analytical question"
      ],
      "metadata": {
        "id": "HriMmxHb8zZ0"
      }
    },
    {
      "cell_type": "code",
      "source": [
        "## Analyze: What race group - categorized by gender, have longer days spent in the hopital based on \n",
        "##          the number of procedures completed for the smae race group and category?\n",
        "\n",
        "## Observation: Based on the visualization below, male patients generally have more procedures\n",
        "##              completed across all race groups, compared to female patients - however, female\n",
        "##              patients, spend more days in the hospital, across all patient groups, than their\n",
        "##              male counterpart\n",
        "\n",
        "##              Additionally, the hipanic race group number of procedures as compared to the days \n",
        "##              spend in the hospital - are lower than any other race group, and the gap between\n",
        "##              genders for the hispanic race group is smaller for both number of procedures, as\n",
        "##              well as days spent in the hospital.\n",
        "\n",
        "\n",
        "sns.set_palette('tab10')\n",
        "sns.catplot(y=\"num_procedures\",\n",
        "            x=\"patient_race\", \n",
        "            data=df, \n",
        "            hue='patient_gender', \n",
        "            kind='bar', \n",
        "            height=4,\n",
        "            aspect=2,\n",
        "            palette='tab10',\n",
        "            errwidth=0)\n",
        "\n",
        "sns.set_palette('tab10')\n",
        "sns.catplot(y=\"days_in_hospital\",\n",
        "            x=\"patient_race\", \n",
        "            data=df, \n",
        "            hue='patient_gender', \n",
        "            kind='bar', \n",
        "            height=4,\n",
        "            aspect=2,\n",
        "            palette='tab10',\n",
        "            errwidth=0)"
      ],
      "metadata": {
        "colab": {
          "base_uri": "https://localhost:8080/",
          "height": 593
        },
        "id": "iEFjLsgb8rkG",
        "outputId": "9340975e-af68-47a9-d779-826e2de4651d"
      },
      "execution_count": 22,
      "outputs": [
        {
          "output_type": "execute_result",
          "data": {
            "text/plain": [
              "<seaborn.axisgrid.FacetGrid at 0x7f441d2fca90>"
            ]
          },
          "metadata": {},
          "execution_count": 22
        },
        {
          "output_type": "display_data",
          "data": {
            "image/png": "[encoded data removed]",
            "text/plain": [
              "<Figure size 660x288 with 1 Axes>"
            ]
          },
          "metadata": {
            "needs_background": "light"
          }
        },
        {
          "output_type": "display_data",
          "data": {
            "image/png": "[encoded data removed]",
            "text/plain": [
              "<Figure size 660x288 with 1 Axes>"
            ]
          },
          "metadata": {
            "needs_background": "light"
          }
        }
      ]
    },
    {
      "cell_type": "code",
      "source": [
        "## Analize: Comparing the numnber of procedures for each race category, which age groups typically\n",
        "##          have more procedures completed?  \n",
        "\n",
        "## Observation: from all age groups listed, the age groups that typically have more procedures \n",
        "##              completed are age group 40-50, age group 50-60, and age group 60-60 - this is \n",
        "##              true for all races, except for the hispanic population - which apper to have less\n",
        "##              prodcedures completed, with the age group between 30-40 being the highest, as\n",
        "##              as opposed to all other races age groups.\n",
        "\n",
        "sns.set_palette('tab10')\n",
        "sns.catplot(#x=\"patient_age_group\", \n",
        "            #y=\"days_in_hospital\", \n",
        "            x=\"patient_race\",\n",
        "            y=\"num_procedures\", \n",
        "            data=df, \n",
        "            hue='patient_age_group', \n",
        "            kind='bar', \n",
        "            height=4,\n",
        "            aspect=2,\n",
        "            palette='tab10',\n",
        "            errwidth=0)\n"
      ],
      "metadata": {
        "colab": {
          "base_uri": "https://localhost:8080/",
          "height": 313
        },
        "id": "NURbtOdZ8rmO",
        "outputId": "a682f008-838a-49df-8a31-f42a83bd2c69"
      },
      "execution_count": 23,
      "outputs": [
        {
          "output_type": "execute_result",
          "data": {
            "text/plain": [
              "<seaborn.axisgrid.FacetGrid at 0x7f441cb49cd0>"
            ]
          },
          "metadata": {},
          "execution_count": 23
        },
        {
          "output_type": "display_data",
          "data": {
            "image/png": "[encoded data removed]",
            "text/plain": [
              "<Figure size 677x288 with 1 Axes>"
            ]
          },
          "metadata": {
            "needs_background": "light"
          }
        }
      ]
    },
    {
      "cell_type": "code",
      "source": [
        ""
      ],
      "metadata": {
        "id": "t__hDo6_8roE"
      },
      "execution_count": 19,
      "outputs": []
    },
    {
      "cell_type": "markdown",
      "source": [
        "##below are additional practice visualization charts while completing the project"
      ],
      "metadata": {
        "id": "ZYL99qP69fXZ"
      }
    },
    {
      "cell_type": "code",
      "source": [
        "sns.boxplot(x='days_in_hospital',\n",
        "            y='patient_age_group',\n",
        "            data=df, \n",
        "            hue='patient_gender', \n",
        "            notch='True',\n",
        "            showfliers=False)\n",
        "plt.show()"
      ],
      "metadata": {
        "colab": {
          "base_uri": "https://localhost:8080/",
          "height": 280
        },
        "id": "Bbky1_8T8rpz",
        "outputId": "7686d59b-b3c2-4926-afd4-b500348c2e36"
      },
      "execution_count": 24,
      "outputs": [
        {
          "output_type": "display_data",
          "data": {
            "image/png": "[encoded data removed]",
            "text/plain": [
              "<Figure size 432x288 with 1 Axes>"
            ]
          },
          "metadata": {
            "needs_background": "light"
          }
        }
      ]
    },
    {
      "cell_type": "code",
      "source": [
        "sns.barplot(x='patient_age_group', \n",
        "            y='days_in_hospital', \n",
        "            hue='patient_race', \n",
        "            data=df)"
      ],
      "metadata": {
        "colab": {
          "base_uri": "https://localhost:8080/",
          "height": 297
        },
        "id": "vNPR10ur4b0z",
        "outputId": "d924c75b-f646-4e6f-afdd-b60b8f452aef"
      },
      "execution_count": 26,
      "outputs": [
        {
          "output_type": "execute_result",
          "data": {
            "text/plain": [
              "<matplotlib.axes._subplots.AxesSubplot at 0x7f4419f83b10>"
            ]
          },
          "metadata": {},
          "execution_count": 26
        },
        {
          "output_type": "display_data",
          "data": {
            "image/png": "[encoded data removed]",
            "text/plain": [
              "<Figure size 432x288 with 1 Axes>"
            ]
          },
          "metadata": {
            "needs_background": "light"
          }
        }
      ]
    },
    {
      "cell_type": "code",
      "source": [
        "sns.violinplot(x='days_in_hospital',\n",
        "            y='patient_age_group',\n",
        "            data=df2_asian, \n",
        "            hue='patient_gender', \n",
        "            showfliers=False)\n",
        "plt.show()"
      ],
      "metadata": {
        "colab": {
          "base_uri": "https://localhost:8080/",
          "height": 280
        },
        "id": "1P25c4UU-W0l",
        "outputId": "bc644359-9bad-4157-f908-1de4bbcb5c0b"
      },
      "execution_count": 27,
      "outputs": [
        {
          "output_type": "display_data",
          "data": {
            "image/png": "[encoded data removed]",
            "text/plain": [
              "<Figure size 432x288 with 1 Axes>"
            ]
          },
          "metadata": {
            "needs_background": "light"
          }
        }
      ]
    },
    {
      "cell_type": "code",
      "source": [
        ""
      ],
      "metadata": {
        "id": "wjmJeSnH-Yrn"
      },
      "execution_count": 26,
      "outputs": []
    },
    {
      "cell_type": "code",
      "source": [
        ""
      ],
      "metadata": {
        "id": "r8zupwyD-Ytk"
      },
      "execution_count": null,
      "outputs": []
    }
  ]
}